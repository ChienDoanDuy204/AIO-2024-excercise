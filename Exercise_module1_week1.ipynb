{
  "cells": [
    {
      "cell_type": "code",
      "execution_count": null,
      "metadata": {
        "id": "v8N1BDOqTt4L"
      },
      "outputs": [],
      "source": [
        "# Bài 1: Viết hàm thực hiện đánh giá classification model( mô hình phân loại) bằng F1-Score\n",
        "def evaluate_classification_model(tp,fp,fn):#đánh giá mô hình phân loại\n",
        "# Dùng hàm isinstance(variable,data_type) dùng để kiểm tra biến đó có phải có kiểu dữ liệu nào đó hay không\n",
        "  if type(tp) is not int or type(fp) is not int or type(fn) is not int or tp<=0 or fp<=0 or fn<=0:\n",
        "    if type(tp) is not int:\n",
        "      print(\"tp must be int\")\n",
        "    if type(fp) is not int:\n",
        "      print(\"fp must be int\")\n",
        "    if type(fn) is not int:\n",
        "      print(\"fn must be int\")\n",
        "    if tp<=0 or fp <=0 or fn<=0:\n",
        "      print(\"tp and fp and fn must be greater than zero\")\n",
        "    return\n",
        "  else:\n",
        "    Precition = tp/(tp+fp)\n",
        "    Recall = tp/(tp+fn)\n",
        "    F1_Score = 2*(Precition*Recall)/(Precition+Recall)\n",
        "    print(round(F1_Score,2))\n",
        "    print(\"Precition is {} \\n Recall is {} \\n F1_Score is {}\".format(Precition,Recall,F1_Score))\n",
        "    return F1_Score\n"
      ]
    },
    {
      "cell_type": "code",
      "execution_count": null,
      "metadata": {
        "colab": {
          "base_uri": "https://localhost:8080/"
        },
        "id": "KWH8NqYcc5nX",
        "outputId": "d8a32fd6-24fa-4651-8c2a-e86a5267d0ff"
      },
      "outputs": [
        {
          "output_type": "stream",
          "name": "stdout",
          "text": [
            "0.4\n",
            "Precition is 0.3333333333333333 \n",
            " Recall is 0.5 \n",
            " F1_Score is 0.4\n"
          ]
        }
      ],
      "source": [
        "# evaluate_classification_model(1,2,1)\n",
        "# assert keywword dùng để kiểm tra từng test case\n",
        "assert evaluate_classification_model(1,2,1) == 0.4, 'Kết quả không giống test case'"
      ]
    },
    {
      "cell_type": "code",
      "source": [
        "# assert 1 == 2, '1 not = 2'"
      ],
      "metadata": {
        "id": "mmYNAsMiatGP"
      },
      "execution_count": null,
      "outputs": []
    },
    {
      "cell_type": "code",
      "source": [
        "evaluate_classification_model(2,3,5)"
      ],
      "metadata": {
        "colab": {
          "base_uri": "https://localhost:8080/"
        },
        "id": "T-ozNuK-yiou",
        "outputId": "f80caa15-3c47-4c8c-ae57-785a8a46996e"
      },
      "execution_count": null,
      "outputs": [
        {
          "output_type": "stream",
          "name": "stdout",
          "text": [
            "0.33\n",
            "Precition is 0.4 \n",
            " Recall is 0.2857142857142857 \n",
            " F1_Score is 0.3333333333333333\n"
          ]
        }
      ]
    },
    {
      "cell_type": "code",
      "execution_count": null,
      "metadata": {
        "colab": {
          "base_uri": "https://localhost:8080/",
          "height": 88
        },
        "id": "p15I_GPiQgyH",
        "outputId": "b6d3f417-fe76-473c-9c89-31452d523718"
      },
      "outputs": [
        {
          "data": {
            "application/vnd.google.colaboratory.intrinsic+json": {
              "type": "string"
            },
            "text/plain": [
              "' sigmoid function(logistic function): là một trong những\\nhàm kích hoạt cơ bản nhất trong machine learning và neural networks.\\n+ sigmoid chuyển đổi input thành một giá trị đầu ra nằm trong (0,1)\\n=> được sử dụng trong các bài toán phân loại nhị phân => mục tiêu \\nlà phân loại đầu vào thành một trong hai lớp\\n'"
            ]
          },
          "execution_count": 1,
          "metadata": {},
          "output_type": "execute_result"
        }
      ],
      "source": [
        "# Bài2:\n",
        "# activation function: Hàm kích hoạt\n",
        "''' sigmoid function(logistic function): là một trong những\n",
        "hàm kích hoạt cơ bản nhất trong machine learning và neural networks.\n",
        "+ sigmoid chuyển đổi input thành một giá trị đầu ra nằm trong (0,1)\n",
        "=> được sử dụng trong các bài toán phân loại nhị phân => mục tiêu\n",
        "là phân loại đầu vào thành một trong hai lớp\n",
        "'''"
      ]
    },
    {
      "cell_type": "code",
      "execution_count": null,
      "metadata": {
        "id": "JD6DGJVWV3pK"
      },
      "outputs": [],
      "source": [
        "'''+ ReLU Function: Hàm kích hoạt phổ biến trong neural netwwork. Nguyên tắc\n",
        "động rất đơn giản đầu vào là số âm => trả về giá trị 0, nếu là số dương hàm\n",
        "trả về chính giá trị đó\n",
        "=> Được ứng dụng trong các bài toán nhận dạng hình ảnh và xử lý ngôn ngữ tự\n",
        "nhiên'''\n"
      ]
    },
    {
      "cell_type": "code",
      "execution_count": null,
      "metadata": {
        "id": "_bqKtrRYZM7d"
      },
      "outputs": [],
      "source": [
        "'''ELU function là 1 loại hàm kích hoạt được sử dụng neural network\n",
        "=> giải quyết được các vấn đề của hàm activation trước như RELU\n",
        "=> Được sử dụng trong các mạng neuron học sâu\n",
        "=> Áp dụng trong các mô hình học sâu như CNN và RNN'''"
      ]
    },
    {
      "cell_type": "code",
      "execution_count": null,
      "metadata": {
        "id": "ltulJcDzTFq1",
        "colab": {
          "base_uri": "https://localhost:8080/"
        },
        "outputId": "59a0e555-9c40-4fcb-d0fa-dcad3d562e9a"
      },
      "outputs": [
        {
          "output_type": "stream",
          "name": "stdout",
          "text": [
            "True\n",
            "False\n"
          ]
        }
      ],
      "source": [
        "# check number function: Dùng để kiểm tra 1 đầu vào có phải số không\n",
        "def is_number(n):\n",
        "  '''Đây là 1 hàm dùng để kiểm tra một đầu vào có phải là số không\n",
        "  Bằng cách là ép kiểu chuỗi sang kiểu string nếu chuỗi nhập vào không\n",
        "  phải là số thì sẽ gây ra lỗi khi đó ta dùng try except để return về false\n",
        "  => cm đầu nhập vào không phải là số. '''\n",
        "  try:\n",
        "    float(n)\n",
        "  except ValueError:\n",
        "    return False\n",
        "  return True\n",
        "assert is_number('3') == 1\n",
        "assert is_number('a12') == 0\n",
        "print(is_number('3'))\n",
        "print(is_number('a12'))"
      ]
    },
    {
      "cell_type": "code",
      "source": [
        "try:\n",
        "  float(\"3.5a\")\n",
        "except ValueError:\n",
        "  print(\"Lỗi chuyển đổi sang số\")"
      ],
      "metadata": {
        "colab": {
          "base_uri": "https://localhost:8080/"
        },
        "id": "mi7N3-KPpolV",
        "outputId": "69a5fcb5-5030-4f52-ec30-38bb7cd3bbf9"
      },
      "execution_count": null,
      "outputs": [
        {
          "output_type": "stream",
          "name": "stdout",
          "text": [
            "Lỗi chuyển đổi sang số\n"
          ]
        }
      ]
    },
    {
      "cell_type": "code",
      "execution_count": null,
      "metadata": {
        "id": "LvwX8852bfeY"
      },
      "outputs": [],
      "source": [
        "# Sigmoid function\n",
        "from math import *\n",
        "def sigmoid_function(x):\n",
        "  return 1/(1+pow(e,-x))"
      ]
    },
    {
      "cell_type": "code",
      "execution_count": null,
      "metadata": {
        "id": "Vad2RD_wcOu_"
      },
      "outputs": [],
      "source": [
        "# ReLU function\n",
        "def ReLU_function(x):\n",
        "  if x<0:\n",
        "    return 0\n",
        "  return x"
      ]
    },
    {
      "cell_type": "code",
      "execution_count": null,
      "metadata": {
        "id": "8cmk38Lgctpe"
      },
      "outputs": [],
      "source": [
        "# ELU function\n",
        "def ELU_function(x):\n",
        "  if x<=0:\n",
        "    Alpha = 0.01\n",
        "    return Alpha*(pow(e,x)-1)\n",
        "  return x"
      ]
    },
    {
      "cell_type": "code",
      "execution_count": null,
      "metadata": {
        "colab": {
          "base_uri": "https://localhost:8080/"
        },
        "id": "pZ2jy9BLY-t5",
        "outputId": "ad0c1165-8425-4c80-f048-e43265cc8726"
      },
      "outputs": [
        {
          "output_type": "stream",
          "name": "stdout",
          "text": [
            "Nhập số x bất kì:1.5\n",
            "Nhập tên hàm kích hoạt mà bạn muốn sử dụng:relu\n",
            "x=1.5\n"
          ]
        },
        {
          "output_type": "execute_result",
          "data": {
            "text/plain": [
              "1"
            ]
          },
          "metadata": {},
          "execution_count": 7
        }
      ],
      "source": [
        "# activation function: Hàm kích hoạt\n",
        "# Toán tử is dùng để so sánh địa chỉ bộ nhớ của hai đối tượng\n",
        "# Toán tử == dùng để so sánh giá trị của hai đối tượng\n",
        "\n",
        "def activation_function():\n",
        "  x = input(\"Nhập số x bất kì:\")\n",
        "  if not is_number(x):\n",
        "    print('x must be a number')\n",
        "    return 0\n",
        "  activation_function_name = input(\"Nhập tên hàm kích hoạt mà bạn muốn sử dụng:\")\n",
        "  activation_function_name = activation_function_name.lower()# Chuyển chuỗi thành chữ thường\n",
        "  if activation_function_name != \"sigmoid\" and activation_function_name != \"relu\" and activation_function_name != \"elu\":\n",
        "    print(\"{} is not supported !\".format(activation_function_name))\n",
        "    return 0\n",
        "  if activation_function_name == \"sigmoid\":\n",
        "    print(\"x={}\".format(sigmoid_function(float(x))))\n",
        "    return 1\n",
        "  if activation_function_name == \"relu\":\n",
        "    print(\"x={}\".format(ReLU_function(float(x))))\n",
        "    return 1\n",
        "  if activation_function_name == \"elu\":\n",
        "    print(\"x={}\".format(ELU_function(float(x))))\n",
        "    return 1\n",
        "activation_function()"
      ]
    },
    {
      "cell_type": "code",
      "execution_count": null,
      "metadata": {
        "id": "JNvqp1teG-VN"
      },
      "outputs": [],
      "source": [
        "#-------------------------------------------------------------------------------------------------------------------------#\n",
        "# Bài 3: regresstion loss function: Hàm tính toán sự mất mát"
      ]
    },
    {
      "cell_type": "code",
      "execution_count": null,
      "metadata": {
        "id": "tfdhFNKuAKb8"
      },
      "outputs": [],
      "source": [
        "# random_target_predict\n",
        "import random\n",
        "def random_target_predict():\n",
        "  target = random.uniform(0,10)\n",
        "  predict = random.uniform(0,10)\n",
        "  return target, predict"
      ]
    },
    {
      "cell_type": "code",
      "execution_count": null,
      "metadata": {
        "id": "EtE2AIRJBRms"
      },
      "outputs": [],
      "source": [
        "# MAE function\n",
        "from math import fabs\n",
        "def MAE_function(target,predict):\n",
        "  return fabs(target - predict)"
      ]
    },
    {
      "cell_type": "code",
      "execution_count": null,
      "metadata": {
        "id": "FhCs8F9cCkFQ"
      },
      "outputs": [],
      "source": [
        "# MSE function\n",
        "from math import pow\n",
        "def MSE_function(target,predict):\n",
        "  return pow((target-predict),2)"
      ]
    },
    {
      "cell_type": "code",
      "execution_count": null,
      "metadata": {
        "id": "ukIsYdZe6XxT"
      },
      "outputs": [],
      "source": [
        "# regression loss function: Hàm tính sự mất mát\n",
        "from math import sqrt\n",
        "def regression_loss_function():\n",
        "  n = input(\"Nhập số lượng ví dụ:\")\n",
        "  if not n.isnumeric():\n",
        "    print(\"number of sample must be an interger number\")\n",
        "    return 0\n",
        "  loss_function_name = input(\"Nhập tên hàm loss:\")\n",
        "  loss_function_name = loss_function_name.lower()\n",
        "  if loss_function_name!= \"mae\" and loss_function_name!=\"mse\" and loss_function_name!=\"rmse\":\n",
        "    print(\"{} is not supported !\".format(loss_function_name))\n",
        "    return 0\n",
        "  print(\"loss function name: {}\".format(loss_function_name))\n",
        "  loss = 0\n",
        "  for i in range(int(n)):\n",
        "    target, predict = random_target_predict()\n",
        "    print(\"sample-{}\\n target ={} --- predict = {}\".format(i+1,target,predict))\n",
        "    if loss_function_name ==\"mae\":\n",
        "      loss += MAE_function(target,predict)\n",
        "    if loss_function_name == \"mse\":\n",
        "      loss += MSE_function(target,predict)\n",
        "    if loss_function_name ==\"rmse\":\n",
        "      loss += MSE_function(target,predict)\n",
        "  if loss_function_name == \"mae\" or loss_function_name == \"mse\":\n",
        "    print(\"loss = {}\".format(loss/int(n)))\n",
        "    return 1\n",
        "  if loss_function_name == \"rmse\":\n",
        "    print(\"loss = {}\".format(sqrt(loss/int(n))))\n",
        "    return 1"
      ]
    },
    {
      "cell_type": "code",
      "execution_count": null,
      "metadata": {
        "colab": {
          "base_uri": "https://localhost:8080/"
        },
        "id": "lpGn_lDwHXkL",
        "outputId": "6d95f84d-b6f2-41a8-fdaf-a6316da403e4"
      },
      "outputs": [
        {
          "name": "stdout",
          "output_type": "stream",
          "text": [
            "Nhập số lượng ví dụ:5\n",
            "Nhập tên hàm loss:Mae\n",
            "loss function name: mae\n",
            "sample-1\n",
            " target =0.6411025749694355 --- predict = 0.4338729077949455\n",
            "sample-2\n",
            " target =7.9745149590001425 --- predict = 5.557460694939876\n",
            "sample-3\n",
            " target =1.1606367286293018 --- predict = 5.175416220075002\n",
            "sample-4\n",
            " target =0.25217705059489837 --- predict = 1.186392325934743\n",
            "sample-5\n",
            " target =0.5867266858239018 --- predict = 5.049630960804986\n",
            "loss = 2.407236594600277\n"
          ]
        },
        {
          "data": {
            "text/plain": [
              "1"
            ]
          },
          "execution_count": 13,
          "metadata": {},
          "output_type": "execute_result"
        }
      ],
      "source": [
        "regression_loss_function()"
      ]
    },
    {
      "cell_type": "code",
      "execution_count": null,
      "metadata": {
        "colab": {
          "base_uri": "https://localhost:8080/"
        },
        "id": "f-TIN4ihIgOn",
        "outputId": "dc592ce6-eaf5-4383-c5ae-6059fe5d8332"
      },
      "outputs": [
        {
          "output_type": "stream",
          "name": "stdout",
          "text": [
            "n= 10\n",
            "n= 9\n",
            "n= 8\n",
            "n= 7\n",
            "n= 6\n",
            "n= 5\n",
            "n= 4\n",
            "n= 3\n",
            "n= 2\n",
            "n= 1\n",
            "n= 0\n",
            "n= -1\n"
          ]
        },
        {
          "output_type": "execute_result",
          "data": {
            "text/plain": [
              "0.0016"
            ]
          },
          "metadata": {},
          "execution_count": 46
        }
      ],
      "source": [
        "#Bài 4: Ước lượng các hàm số lượng giác\n",
        "'''\n",
        "180 <-> pi\n",
        "x   <-> ?\n",
        "'''\n",
        "from math import *\n",
        "def convert_to_radian(x):\n",
        "  '''\n",
        "  this function is used to convert degrees to radians\n",
        "  '''\n",
        "  return x*pi/180\n",
        "\n",
        "# compute sin(x)\n",
        "sin = 0\n",
        "def compute_sin(x,n):\n",
        "  print(\"n=\",n)\n",
        "  global sin\n",
        "  if n<0:\n",
        "    return sin\n",
        "  sin += pow(-1,n)*(pow(x,2*n+1)/factorial(2*n+1))\n",
        "  return compute_sin(x,n-1)\n",
        "# x = float(input(\"Nhập số độ cần tính toán:\"))\n",
        "# compute_sin(convert_to_radian(x),10)\n",
        "round(compute_sin(3.14,10),4)\n"
      ]
    },
    {
      "cell_type": "code",
      "execution_count": null,
      "metadata": {
        "colab": {
          "base_uri": "https://localhost:8080/"
        },
        "id": "gVITCwIOQKP9",
        "outputId": "a079989c-206c-42ab-baa4-d9f9f88bfafb"
      },
      "outputs": [
        {
          "output_type": "stream",
          "name": "stdout",
          "text": [
            "Nhập số độ cần tính toán:0\n",
            "n= 10\n",
            "cos= 0.0\n",
            "n= 9\n",
            "cos= 0.0\n",
            "n= 8\n",
            "cos= 0.0\n",
            "n= 7\n",
            "cos= 0.0\n",
            "n= 6\n",
            "cos= 0.0\n",
            "n= 5\n",
            "cos= 0.0\n",
            "n= 4\n",
            "cos= 0.0\n",
            "n= 3\n",
            "cos= 0.0\n",
            "n= 2\n",
            "cos= 0.0\n",
            "n= 1\n",
            "cos= 0.0\n",
            "n= 0\n",
            "cos= 1.0\n",
            "n= -1\n"
          ]
        },
        {
          "output_type": "execute_result",
          "data": {
            "text/plain": [
              "1.0"
            ]
          },
          "metadata": {},
          "execution_count": 33
        }
      ],
      "source": [
        "\n",
        "# compute cos(x)\n",
        "cos = 0\n",
        "def compute_cos(x,n):\n",
        "  print(\"n=\",n)\n",
        "  global cos\n",
        "  if n<0:\n",
        "    return cos\n",
        "  cos += pow(-1,n)*(pow(x,2*n)/factorial(2*n))\n",
        "  print(\"cos=\",cos)\n",
        "  return compute_cos(x,n-1)\n",
        "x = float(input(\"Nhập số độ cần tính toán:\"))\n",
        "compute_cos(convert_to_radian(x),10)"
      ]
    },
    {
      "cell_type": "code",
      "execution_count": null,
      "metadata": {
        "colab": {
          "base_uri": "https://localhost:8080/"
        },
        "id": "M4Gs6WjQUct7",
        "outputId": "dff2837c-7081-4c7f-f352-36b7accf7b93"
      },
      "outputs": [
        {
          "output_type": "execute_result",
          "data": {
            "text/plain": [
              "11.53"
            ]
          },
          "metadata": {},
          "execution_count": 48
        }
      ],
      "source": [
        "# compute sinh(x)\n",
        "sinh = 0\n",
        "def compute_sinh(x,n):\n",
        "  global sinh\n",
        "  if n<0:\n",
        "    return sinh\n",
        "  sinh += pow(x,2*n+1)/factorial(2*n+1)\n",
        "  return compute_sinh(x,n-1)\n",
        "# x = float(input(\"Nhập số độ cần tính toán:\"))\n",
        "# compute_sinh(convert_to_radian(x),10)\n",
        "round(compute_sinh(3.14,10),2)"
      ]
    },
    {
      "cell_type": "code",
      "execution_count": null,
      "metadata": {
        "colab": {
          "base_uri": "https://localhost:8080/"
        },
        "id": "ExDS-fKKXI55",
        "outputId": "34c92c01-c038-41e7-c510-8b4fe29655c3"
      },
      "outputs": [
        {
          "output_type": "execute_result",
          "data": {
            "text/plain": [
              "11.57"
            ]
          },
          "metadata": {},
          "execution_count": 49
        }
      ],
      "source": [
        "# compute cosh(x)\n",
        "cosh = 0\n",
        "def compute_cosh(x,n):\n",
        "  global cosh\n",
        "  if n<0:\n",
        "    return cosh\n",
        "  cosh +=pow(x,2*n)/factorial(2*n)\n",
        "  return compute_cosh(x,n-1)\n",
        "# x = float(input(\"Nhập số độ cần tính toán:\"))\n",
        "# compute_cosh(convert_to_radian(x),10)\n",
        "\n",
        "round(compute_cosh(3.14,10),2)"
      ]
    },
    {
      "cell_type": "code",
      "execution_count": null,
      "metadata": {
        "colab": {
          "base_uri": "https://localhost:8080/"
        },
        "id": "N1ryK8yaayYu",
        "outputId": "1495a50e-795d-4c0f-9ef4-4e041a8fe965"
      },
      "outputs": [
        {
          "output_type": "execute_result",
          "data": {
            "text/plain": [
              "0.025031328369998107"
            ]
          },
          "metadata": {},
          "execution_count": 25
        }
      ],
      "source": [
        "# Bài 5:\n",
        "# tính toán cho 1 cặp target và predict\n",
        "def compute_MD_nRE(y,y_hat,n,p):\n",
        "  return pow(pow(y,1/n)-pow(y_hat,1/n),p)\n",
        "compute_MD_nRE(100,99.5,2,1)"
      ]
    },
    {
      "cell_type": "markdown",
      "source": [
        "1-A\n",
        "2-B\n",
        "3-C\n",
        "4-A\n",
        "5-B\n",
        "6-A\n",
        "7-A\n",
        "8-A\n",
        "9_C\n",
        "10-A\n",
        "11-A\n",
        "12-A\n",
        "\n",
        "\n",
        "\n"
      ],
      "metadata": {
        "id": "fMdrneQzzi-0"
      }
    },
    {
      "cell_type": "code",
      "source": [
        "round(sigmoid_function(2),2)"
      ],
      "metadata": {
        "colab": {
          "base_uri": "https://localhost:8080/"
        },
        "id": "LnerMCD20luX",
        "outputId": "5a077588-37b3-44e6-eafe-5fcfa921988e"
      },
      "execution_count": null,
      "outputs": [
        {
          "output_type": "execute_result",
          "data": {
            "text/plain": [
              "0.88"
            ]
          },
          "metadata": {},
          "execution_count": 19
        }
      ]
    },
    {
      "cell_type": "code",
      "source": [
        "round(ELU_function(-1),2)"
      ],
      "metadata": {
        "colab": {
          "base_uri": "https://localhost:8080/"
        },
        "id": "2Wn-ZGHt1P9v",
        "outputId": "3c14230f-7f8b-430f-db30-cea6d6616a09"
      },
      "execution_count": null,
      "outputs": [
        {
          "output_type": "execute_result",
          "data": {
            "text/plain": [
              "-0.01"
            ]
          },
          "metadata": {},
          "execution_count": 21
        }
      ]
    },
    {
      "cell_type": "code",
      "source": [
        "round(sigmoid_function(3),2)"
      ],
      "metadata": {
        "colab": {
          "base_uri": "https://localhost:8080/"
        },
        "id": "DPcUcH3Z1kTt",
        "outputId": "14d5a2ec-ebd3-4107-c424-7eb5d6cba6ea"
      },
      "execution_count": null,
      "outputs": [
        {
          "output_type": "execute_result",
          "data": {
            "text/plain": [
              "0.95"
            ]
          },
          "metadata": {},
          "execution_count": 22
        }
      ]
    },
    {
      "cell_type": "code",
      "source": [
        "MAE_function(2,9)"
      ],
      "metadata": {
        "colab": {
          "base_uri": "https://localhost:8080/"
        },
        "id": "feRGLdZX2S4J",
        "outputId": "bcb6d2ab-0790-4033-8e88-a775b4267d6c"
      },
      "execution_count": null,
      "outputs": [
        {
          "output_type": "execute_result",
          "data": {
            "text/plain": [
              "7.0"
            ]
          },
          "metadata": {},
          "execution_count": 24
        }
      ]
    },
    {
      "cell_type": "code",
      "source": [
        "def calc_se(y,y_hat):\n",
        "  return pow(y-y_hat,2)\n",
        "calc_se(2,1)"
      ],
      "metadata": {
        "colab": {
          "base_uri": "https://localhost:8080/"
        },
        "id": "KLoOKGRs29tO",
        "outputId": "7608b7cb-99cd-44f4-9dd9-91d2ab61e626"
      },
      "execution_count": null,
      "outputs": [
        {
          "output_type": "execute_result",
          "data": {
            "text/plain": [
              "1.0"
            ]
          },
          "metadata": {},
          "execution_count": 27
        }
      ]
    },
    {
      "cell_type": "code",
      "source": [
        "round(compute_cos(3.14,10),2)"
      ],
      "metadata": {
        "colab": {
          "base_uri": "https://localhost:8080/"
        },
        "id": "VQ4IO89O3sG0",
        "outputId": "95c888a1-78e7-45e4-816a-d03337c6e349"
      },
      "execution_count": null,
      "outputs": [
        {
          "output_type": "stream",
          "name": "stdout",
          "text": [
            "n= 10\n",
            "cos= 3.568357388343833e-09\n",
            "n= 9\n",
            "cos= -1.339601232366974e-07\n",
            "n= 8\n",
            "cos= 4.134338293662832e-06\n",
            "n= 7\n",
            "cos= -9.976355006447414e-05\n",
            "n= 6\n",
            "cos= 0.001818104890965682\n",
            "n= 5\n",
            "cos= -0.023858254618140225\n",
            "n= 4\n",
            "cos= 0.21051964669829565\n",
            "n= 3\n",
            "cos= -1.1206867383193935\n",
            "n= 2\n",
            "cos= 2.9298012683472745\n",
            "n= 1\n",
            "cos= -1.9999987316527257\n",
            "n= 0\n",
            "cos= -0.9999987316527257\n",
            "n= -1\n"
          ]
        },
        {
          "output_type": "execute_result",
          "data": {
            "text/plain": [
              "-1.0"
            ]
          },
          "metadata": {},
          "execution_count": 31
        }
      ]
    },
    {
      "cell_type": "code",
      "source": [
        "# f-string in Python\n",
        "name = 'Đoàn Duy Chiến'\n",
        "age = 21\n",
        "print(f\"Họ và Tên: {name} Tuổi: {age}\")"
      ],
      "metadata": {
        "colab": {
          "base_uri": "https://localhost:8080/"
        },
        "id": "eM5yCv_6DOn9",
        "outputId": "26729073-8669-448c-cbff-42aef73e188e"
      },
      "execution_count": null,
      "outputs": [
        {
          "output_type": "stream",
          "name": "stdout",
          "text": [
            "Họ và Tên: Đoàn Duy Chiến Tuổi: 21\n"
          ]
        }
      ]
    }
  ],
  "metadata": {
    "accelerator": "GPU",
    "colab": {
      "gpuType": "T4",
      "provenance": []
    },
    "kernelspec": {
      "display_name": "Python 3",
      "name": "python3"
    },
    "language_info": {
      "name": "python"
    }
  },
  "nbformat": 4,
  "nbformat_minor": 0
}